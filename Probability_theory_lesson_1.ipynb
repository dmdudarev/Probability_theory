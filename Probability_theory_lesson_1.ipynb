{
 "cells": [
  {
   "cell_type": "markdown",
   "id": "716d72ee",
   "metadata": {},
   "source": [
    "# Lesson 1"
   ]
  },
  {
   "cell_type": "markdown",
   "id": "0cfbe48c",
   "metadata": {},
   "source": [
    "### Задание 1\n",
    "#### Из колоды в 52 карты извлекаются случайным образом 4 карты:\n",
    "##### a) Найти вероятность того, что все карты – крести; \n",
    "##### б) Найти вероятность, что среди 4-х карт окажется хотя бы один туз."
   ]
  },
  {
   "cell_type": "markdown",
   "id": "e16bdc40",
   "metadata": {},
   "source": [
    "##### a) В колоде из 52 карт - 13 крести.\n",
    "Вероятность, что первая карта крести:\n",
    "$$P(A) = \\frac{13}{52}$$\n",
    "Вероятность, что вторая карта крести:\n",
    "$$P(B) = \\frac{12}{51}$$\n",
    "Вероятность, что третья карта крести:\n",
    "$$P(C) = \\frac{11}{50}$$\n",
    "Вероятность, что четвертая карта крести:\n",
    "$$P(D) = \\frac{10}{49}$$\n",
    "Вероятность, что все четыре карты крести:\n",
    "$$P(A*B*C*D) = P(A) * P(B) * P(C) * P(D) = \\frac{13}{52}\\cdot\\frac{12}{51}\\cdot\\frac{11}{50}\\cdot\\frac{10}{49}=\\frac{11}{4165}$$"
   ]
  },
  {
   "cell_type": "markdown",
   "id": "10eb914a",
   "metadata": {},
   "source": [
    "##### б) В колоде из 52 карт - 4 туза.\n",
    "Вероятность вытащить туза:\n",
    "$$P(A) = \\frac{4}{52}=\\frac{1}{13}$$\n",
    "Вероятность, что среди 4-х карт окажется хотя бы один туз:\n",
    "$$P(B) = \\frac{1}{13}\\cdot\\frac{1}{13}=\\frac{1}{169}$$"
   ]
  },
  {
   "cell_type": "markdown",
   "id": "02eaf858",
   "metadata": {},
   "source": [
    "### Задание 2\n",
    "#### На входной двери подъезда установлен кодовый замок, содержащий десять кнопок с цифрами от 0 до 9. Код содержит три цифры, которые нужно нажать одновременно. \n",
    "##### Какова вероятность того, что человек, не знающий код, откроет дверь с первой попытки?\n"
   ]
  },
  {
   "cell_type": "code",
   "execution_count": 17,
   "id": "d48313e1",
   "metadata": {},
   "outputs": [],
   "source": [
    "from math import factorial\n",
    "def combinations(n, k):\n",
    "    return int(factorial(n) / (factorial(k) * factorial(n - k)))"
   ]
  },
  {
   "cell_type": "code",
   "execution_count": 20,
   "id": "9af6b394",
   "metadata": {},
   "outputs": [
    {
     "data": {
      "image/png": "[encoded data removed]",
      "text/latex": [
       "$\\displaystyle 120$"
      ],
      "text/plain": [
       "120"
      ]
     },
     "execution_count": 20,
     "metadata": {},
     "output_type": "execute_result"
    }
   ],
   "source": [
    "combinations(10, 3)"
   ]
  },
  {
   "cell_type": "markdown",
   "id": "befecdbf",
   "metadata": {},
   "source": [
    "Ответ: $\\frac{1}{120}$"
   ]
  },
  {
   "cell_type": "markdown",
   "id": "c1a272eb",
   "metadata": {},
   "source": [
    "### Задание 3\n",
    "#### В ящике имеется 15 деталей, из которых 9 окрашены. Рабочий случайным образом извлекает 3 детали. \n",
    "##### Какова вероятность того, что все извлеченные детали окрашены?\n"
   ]
  },
  {
   "cell_type": "markdown",
   "id": "3365c7fe",
   "metadata": {},
   "source": [
    "Вероятность, что первая деталь окрашена:\n",
    "$$P(A) = \\frac{9}{15}=\\frac{3}{5}$$\n",
    "Вероятность, что вторая деталь окрашена:\n",
    "$$P(B) = \\frac{8}{14}=\\frac{4}{7}$$\n",
    "Вероятность, что третья деталь окрашена:\n",
    "$$P(C) = \\frac{7}{13}$$\n",
    "Вероятность, что все три детали окрашены:\n",
    "$$P(A*B*C) = P(A) * P(B) * P(C) = \\frac{3}{5}\\cdot\\frac{4}{7}\\cdot\\frac{7}{13}=\\frac{12}{65}$$"
   ]
  },
  {
   "cell_type": "markdown",
   "id": "f42d77fa",
   "metadata": {},
   "source": [
    "### Задание 4\n",
    "#### В лотерее 100 билетов. Из них 2 выигрышных. \n",
    "##### Какова вероятность того, что 2 приобретенных билета окажутся выигрышными?"
   ]
  },
  {
   "cell_type": "markdown",
   "id": "787234d0",
   "metadata": {},
   "source": [
    "Вероятность, что первый билет выигрышный:\n",
    "$$P(A) = \\frac{1}{100}$$\n",
    "Вероятность, что второй билет выигрышный:\n",
    "$$P(B) = \\frac{1}{99}$$\n",
    "Вероятность, что оба билета выигрышные:\n",
    "$$P(A*B) = P(A) * P(B) = \\frac{1}{100}\\cdot\\frac{1}{99}=\\frac{1}{9900}$$"
   ]
  },
  {
   "cell_type": "markdown",
   "id": "bd069712",
   "metadata": {},
   "source": [
    "### Задание 5\n",
    "#### На соревновании по биатлону один из трех спортсменов стреляет и попадает в мишень. Вероятность попадания для первого спортсмена равна 0.9, для второго — 0.8, для третьего — 0.6. \n",
    "#### Найти вероятность того, что выстрел произведен: \n",
    "##### a) первым спортсменом \n",
    "##### б) вторым спортсменом \n",
    "##### в) третьим спортсменом."
   ]
  },
  {
   "cell_type": "markdown",
   "id": "bef200d4",
   "metadata": {},
   "source": [
    "Событием $A$ будем считать попадание в мишень, а событиями $B_1, B_2$ и $B_3$ — что попал первый, второй или третий спортсмен:"
   ]
  },
  {
   "cell_type": "markdown",
   "id": "50ef9e56",
   "metadata": {},
   "source": [
    "$$P(A\\:|\\:B_1) = 0.9$$\n",
    "\n",
    "$$P(A\\:|\\:B_2) = 0.8$$\n",
    "\n",
    "$$P(A\\:|\\:B_3) = 0.6$$"
   ]
  },
  {
   "cell_type": "markdown",
   "id": "cdaa8e09",
   "metadata": {},
   "source": [
    "а) Вероятность того, что выстрел произведен первым спортсменом:\n",
    "$$P(B_1\\:|\\:A) = \\frac{P(B_1) \\cdot P(A\\:|\\:B_1)}{P(A)}=\\frac{\\frac{1}{3} \\cdot 0.9}{\\frac{1}{3} \\cdot 0.9 + \\frac{1}{3} \\cdot 0.8 + \\frac{1}{3} \\cdot 0.6} = \\frac{9}{23}$$\n"
   ]
  },
  {
   "cell_type": "markdown",
   "id": "e150de9e",
   "metadata": {},
   "source": [
    "б) Вероятность того, что выстрел произведен вторым спортсменом:\n",
    "$$P(B_2\\:|\\:A) = \\frac{P(B_2) \\cdot P(A\\:|\\:B_2)}{P(A)}=\\frac{\\frac{1}{3} \\cdot 0.8}{\\frac{1}{3} \\cdot 0.9 + \\frac{1}{3} \\cdot 0.8 + \\frac{1}{3} \\cdot 0.6} = \\frac{8}{23}$$"
   ]
  },
  {
   "cell_type": "markdown",
   "id": "7893a43a",
   "metadata": {},
   "source": [
    "в) Вероятность того, что выстрел произведен третьим спортсменом:\n",
    "$$P(B_3\\:|\\:A) = \\frac{P(B_3) \\cdot P(A\\:|\\:B_3)}{P(A)}=\\frac{\\frac{1}{3} \\cdot 0.6}{\\frac{1}{3} \\cdot 0.9 + \\frac{1}{3} \\cdot 0.8 + \\frac{1}{3} \\cdot 0.6} = \\frac{6}{23}$$"
   ]
  }
 ],
 "metadata": {
  "kernelspec": {
   "display_name": "Python 3 (ipykernel)",
   "language": "python",
   "name": "python3"
  },
  "language_info": {
   "codemirror_mode": {
    "name": "ipython",
    "version": 3
   },
   "file_extension": ".py",
   "mimetype": "text/x-python",
   "name": "python",
   "nbconvert_exporter": "python",
   "pygments_lexer": "ipython3",
   "version": "3.9.7"
  }
 },
 "nbformat": 4,
 "nbformat_minor": 5
}
