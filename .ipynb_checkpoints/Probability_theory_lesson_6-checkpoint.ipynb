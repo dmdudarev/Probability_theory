{
 "cells": [
  {
   "cell_type": "markdown",
   "id": "14683e0c",
   "metadata": {},
   "source": [
    "# Lesson 6"
   ]
  },
  {
   "cell_type": "markdown",
   "id": "b07e5316",
   "metadata": {},
   "source": [
    "### Задание 1\n",
    "#### Даны значения величины заработной платы заемщиков банка (zp) и значения их поведенческого кредитного скоринга (ks):\n",
    "#### zp = [35, 45, 190, 200, 40, 70, 54, 150, 120, 110],\n",
    "#### ks = [401, 574, 874, 919, 459, 739, 653, 902, 746, 832].\n",
    "\n",
    "##### а) Найдите ковариацию этих двух величин с помощью элементарных действий, а затем с помощью функции cov из numpy. Полученные значения должны быть равны.\n",
    "##### б) Найдите коэффициент корреляции Пирсона с помощью ковариации и среднеквадратичных отклонений двух признаков, а затем с использованием функций из библиотек numpy и pandas."
   ]
  },
  {
   "cell_type": "markdown",
   "id": "05c5bb6d",
   "metadata": {},
   "source": [
    "#### Решение:"
   ]
  },
  {
   "cell_type": "code",
   "execution_count": 1,
   "id": "9cfec5f0",
   "metadata": {},
   "outputs": [],
   "source": [
    "import math\n",
    "import numpy as np\n",
    "import pandas as pd"
   ]
  },
  {
   "cell_type": "code",
   "execution_count": 2,
   "id": "79264b3f",
   "metadata": {},
   "outputs": [],
   "source": [
    "my_data = {'zp':[35, 45, 190, 200, 40, 70, 54, 150, 120, 110], 'ks':[401, 574, 874, 919, 459, 739, 653, 902, 746, 832]}\n",
    "df1 = pd.DataFrame(my_data, columns=['zp', 'ks'])"
   ]
  },
  {
   "cell_type": "code",
   "execution_count": 3,
   "id": "1305543a",
   "metadata": {},
   "outputs": [
    {
     "data": {
      "text/plain": [
       "9157.84"
      ]
     },
     "execution_count": 3,
     "metadata": {},
     "output_type": "execute_result"
    }
   ],
   "source": [
    "# ковариация с помощью элементарных действий\n",
    "df1_mean_zp = df1['zp'].sum() / df1['zp'].count()\n",
    "df1_mean_ks = df1['ks'].sum() / df1['ks'].count()\n",
    "covar_el = round((1/df1.count()[0])*((df1['zp']-df1_mean_zp)*(df1['ks']-df1_mean_ks)).sum(), 4)\n",
    "covar_el"
   ]
  },
  {
   "cell_type": "code",
   "execution_count": 4,
   "id": "fe2b254d",
   "metadata": {},
   "outputs": [
    {
     "data": {
      "text/plain": [
       "9157.84"
      ]
     },
     "execution_count": 4,
     "metadata": {},
     "output_type": "execute_result"
    }
   ],
   "source": [
    "# ковариация с помощью np.cov()\n",
    "covar = np.cov(df1, rowvar=False, ddof=0)[0][1]\n",
    "covar"
   ]
  },
  {
   "cell_type": "code",
   "execution_count": 5,
   "id": "a6978760",
   "metadata": {},
   "outputs": [
    {
     "data": {
      "text/plain": [
       "0.8875"
      ]
     },
     "execution_count": 5,
     "metadata": {},
     "output_type": "execute_result"
    }
   ],
   "source": [
    "# коэффициент корреляции с помощью ковариации и среднеквадратичных отклонений двух признаков\n",
    "df1_std_zp = np.sqrt(((df1['zp'] - df1_mean_zp)**2).sum() / df1['zp'].count())\n",
    "df1_std_ks = np.sqrt(((df1['ks'] - df1_mean_ks)**2).sum() / df1['ks'].count())\n",
    "my_corr_el = round(covar_el/(df1_std_zp*df1_std_ks), 4)\n",
    "my_corr_el"
   ]
  },
  {
   "cell_type": "code",
   "execution_count": 6,
   "id": "60ac82b8",
   "metadata": {},
   "outputs": [
    {
     "data": {
      "text/plain": [
       "0.8875"
      ]
     },
     "execution_count": 6,
     "metadata": {},
     "output_type": "execute_result"
    }
   ],
   "source": [
    "# коэффициент корреляции с помощью библиотек numpy и pandas\n",
    "my_corr_lib = df1.loc[:, ['zp', 'ks']].corr()\n",
    "round(my_corr_lib.loc['zp', 'ks'], 4)"
   ]
  },
  {
   "cell_type": "markdown",
   "id": "45c3209e",
   "metadata": {},
   "source": [
    "#### Ответ:\n",
    "##### а) ковариация: 9157.84\n",
    "##### б) коэффициент корреляции: 0.8875"
   ]
  },
  {
   "cell_type": "markdown",
   "id": "47dfc9e6",
   "metadata": {},
   "source": [
    "### Задание 2\n",
    "#### Измерены значения IQ выборки студентов, обучающихся в местных технических вузах: \n",
    "131, 125, 115, 122, 131, 115, 107, 99, 125, 111. \n",
    "#### Известно, что в генеральной совокупности IQ распределен нормально. \n",
    "##### Найдите доверительный интервал для математического ожидания с надежностью 0.95."
   ]
  },
  {
   "cell_type": "markdown",
   "id": "c7761ec9",
   "metadata": {},
   "source": [
    "#### Решение:"
   ]
  },
  {
   "cell_type": "code",
   "execution_count": 7,
   "id": "df121085",
   "metadata": {},
   "outputs": [],
   "source": [
    "df2 = pd.DataFrame([131, 125, 115, 122, 131, 115, 107, 99, 125, 111], columns=['my_data_2'])"
   ]
  },
  {
   "cell_type": "code",
   "execution_count": 8,
   "id": "081103e5",
   "metadata": {},
   "outputs": [
    {
     "data": {
      "text/plain": [
       "(110.9437, 125.2563)"
      ]
     },
     "execution_count": 8,
     "metadata": {},
     "output_type": "execute_result"
    }
   ],
   "source": [
    "df2_mean = df2['my_data_2'].mean()\n",
    "df2_std = df2['my_data_2'].std(ddof=0)\n",
    "interval2_1 = round(df2_mean-(df2_std/math.sqrt(df2['my_data_2'].count()))*2.262, 4)\n",
    "interval2_2 = round(df2_mean+(df2_std/math.sqrt(df2['my_data_2'].count()))*2.262, 4)\n",
    "interval2_1, interval2_2"
   ]
  },
  {
   "cell_type": "markdown",
   "id": "05f44df5",
   "metadata": {},
   "source": [
    "#### Ответ: доверительный интервал 110.9437, 125.2563"
   ]
  },
  {
   "cell_type": "markdown",
   "id": "b7cb3676",
   "metadata": {},
   "source": [
    "### Задание 3\n",
    "#### Известно, что рост футболистов в сборной распределен нормально с дисперсией генеральной совокупности, равной 25 кв.см. Объем выборки равен 27, среднее выборочное составляет 174.2. \n",
    "##### Найдите доверительный интервал для математического ожидания с надежностью 0.95."
   ]
  },
  {
   "cell_type": "markdown",
   "id": "896d32aa",
   "metadata": {},
   "source": [
    "#### Решение:"
   ]
  },
  {
   "cell_type": "code",
   "execution_count": 9,
   "id": "9f34cfb7",
   "metadata": {},
   "outputs": [
    {
     "data": {
      "text/plain": [
       "(172.314, 176.086)"
      ]
     },
     "execution_count": 9,
     "metadata": {},
     "output_type": "execute_result"
    }
   ],
   "source": [
    "interval3_1 = round(174.2-(math.sqrt(25)/math.sqrt(27))*1.96, 4)\n",
    "interval3_2 = round(174.2+(math.sqrt(25)/math.sqrt(27))*1.96, 4)\n",
    "interval3_1, interval3_2"
   ]
  },
  {
   "cell_type": "markdown",
   "id": "0bfe4338",
   "metadata": {},
   "source": [
    "#### Ответ: доверительный интервал 172.314, 176.086"
   ]
  }
 ],
 "metadata": {
  "kernelspec": {
   "display_name": "Python 3 (ipykernel)",
   "language": "python",
   "name": "python3"
  },
  "language_info": {
   "codemirror_mode": {
    "name": "ipython",
    "version": 3
   },
   "file_extension": ".py",
   "mimetype": "text/x-python",
   "name": "python",
   "nbconvert_exporter": "python",
   "pygments_lexer": "ipython3",
   "version": "3.9.7"
  }
 },
 "nbformat": 4,
 "nbformat_minor": 5
}
