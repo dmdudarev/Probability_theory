{
 "cells": [
  {
   "cell_type": "markdown",
   "id": "fd305766",
   "metadata": {},
   "source": [
    "# Lesson 3"
   ]
  },
  {
   "cell_type": "markdown",
   "id": "924806ce",
   "metadata": {},
   "source": [
    "### Задание 1\n",
    "#### Даны значения зарплат из выборки выпускников: 100, 80, 75, 77, 89, 33, 45, 25, 65, 17, 30, 24, 57, 55, 70, 75, 65, 84, 90, 150.\n",
    "##### Посчитать (желательно без использования статистических методов наподобие std, var, mean): \n",
    "##### а) среднее арифметическое, \n",
    "##### б) среднее квадратичное отклонение, \n",
    "##### в) смещенную дисперсию,\n",
    "##### г) несмещенную дисперсию для данной выборки."
   ]
  },
  {
   "cell_type": "markdown",
   "id": "fffb61ad",
   "metadata": {},
   "source": [
    "#### Решение:"
   ]
  },
  {
   "cell_type": "code",
   "execution_count": 1,
   "id": "c2e64831",
   "metadata": {},
   "outputs": [],
   "source": [
    "import numpy as np\n",
    "import pandas as pd"
   ]
  },
  {
   "cell_type": "code",
   "execution_count": 2,
   "id": "529b311f",
   "metadata": {},
   "outputs": [],
   "source": [
    "df = pd.DataFrame([100, 80, 75, 77, 89, 33, 45, 25, 65, 17, 30, 24, 57, 55, 70, 75, 65, 84, 90, 150], columns=['salary'])"
   ]
  },
  {
   "cell_type": "code",
   "execution_count": 3,
   "id": "64e3ca5d",
   "metadata": {},
   "outputs": [
    {
     "data": {
      "text/plain": [
       "65.3"
      ]
     },
     "execution_count": 3,
     "metadata": {},
     "output_type": "execute_result"
    }
   ],
   "source": [
    "df_mean = df['salary'].sum() / df['salary'].count() # среднее арифметическое\n",
    "df_mean"
   ]
  },
  {
   "cell_type": "code",
   "execution_count": 4,
   "id": "29b5d70c",
   "metadata": {},
   "outputs": [
    {
     "data": {
      "text/plain": [
       "65.3"
      ]
     },
     "execution_count": 4,
     "metadata": {},
     "output_type": "execute_result"
    }
   ],
   "source": [
    "df_mean_st = df['salary'].mean() # среднее арифметическое - статистический метод\n",
    "df_mean_st"
   ]
  },
  {
   "cell_type": "code",
   "execution_count": 5,
   "id": "21bf8a0c",
   "metadata": {},
   "outputs": [
    {
     "data": {
      "text/plain": [
       "30.8239"
      ]
     },
     "execution_count": 5,
     "metadata": {},
     "output_type": "execute_result"
    }
   ],
   "source": [
    "df_std = round(np.sqrt(((df['salary'] - df_mean)**2).sum() / df['salary'].count()), 4) # среднее квадратичное отклонение\n",
    "df_std"
   ]
  },
  {
   "cell_type": "code",
   "execution_count": 6,
   "id": "ce4d5635",
   "metadata": {},
   "outputs": [
    {
     "data": {
      "text/plain": [
       "30.8239"
      ]
     },
     "execution_count": 6,
     "metadata": {},
     "output_type": "execute_result"
    }
   ],
   "source": [
    "df_std_st = round(df['salary'].std(ddof=0), 4) # среднее квадратичное отклонение - статистический метод\n",
    "df_std_st"
   ]
  },
  {
   "cell_type": "code",
   "execution_count": 7,
   "id": "c305b07b",
   "metadata": {},
   "outputs": [
    {
     "data": {
      "text/plain": [
       "950.11"
      ]
     },
     "execution_count": 7,
     "metadata": {},
     "output_type": "execute_result"
    }
   ],
   "source": [
    "df_variance = round(((df['salary'] - df_mean)**2).sum() / df['salary'].count(), 4) # смещенная дисперсия\n",
    "df_variance"
   ]
  },
  {
   "cell_type": "code",
   "execution_count": 8,
   "id": "5f761762",
   "metadata": {},
   "outputs": [
    {
     "data": {
      "text/plain": [
       "950.11"
      ]
     },
     "execution_count": 8,
     "metadata": {},
     "output_type": "execute_result"
    }
   ],
   "source": [
    "df_variance_st = round(df['salary'].var(ddof=0), 4) # смещенная дисперсия - статистический метод\n",
    "df_variance_st"
   ]
  },
  {
   "cell_type": "code",
   "execution_count": 9,
   "id": "96e2c795",
   "metadata": {},
   "outputs": [
    {
     "data": {
      "text/plain": [
       "1000.1158"
      ]
     },
     "execution_count": 9,
     "metadata": {},
     "output_type": "execute_result"
    }
   ],
   "source": [
    "df_variance2 = round(((df['salary'] - df_mean)**2).sum() / (df['salary'].count()-1), 4) # несмещенная дисперсия\n",
    "df_variance2"
   ]
  },
  {
   "cell_type": "code",
   "execution_count": 10,
   "id": "759659f3",
   "metadata": {},
   "outputs": [
    {
     "data": {
      "text/plain": [
       "1000.1158"
      ]
     },
     "execution_count": 10,
     "metadata": {},
     "output_type": "execute_result"
    }
   ],
   "source": [
    "df_variance2_st = round(df['salary'].var(ddof=1), 4) # несмещенная дисперсия - статистический метод\n",
    "df_variance2_st"
   ]
  },
  {
   "cell_type": "markdown",
   "id": "72bc0b1d",
   "metadata": {},
   "source": [
    "### Ответ: \n",
    "### а) среднее арифметическое = 65.3,\n",
    "### б) среднее квадратичное отклонение = 30.8239,\n",
    "### в) смещенная дисперсия = 950.11,\n",
    "### г) несмещенная дисперсия = 1000.1158."
   ]
  },
  {
   "cell_type": "markdown",
   "id": "bbce0e60",
   "metadata": {},
   "source": [
    "### Задание 2\n",
    "#### В первом ящике находится 8 мячей, из которых 5 - белые. Во втором ящике - 12 мячей, из которых 5 белых. Из первого ящика вытаскивают случайным образом два мяча, из второго - 4. \n",
    "##### Какова вероятность того, что 3 мяча белые?"
   ]
  },
  {
   "cell_type": "markdown",
   "id": "91e846bc",
   "metadata": {},
   "source": [
    "#### Решение:"
   ]
  },
  {
   "cell_type": "markdown",
   "id": "a05eec0f",
   "metadata": {},
   "source": [
    "$$\\frac{C_5^2}{C_8^2} \\cdot \\frac{C_5^1 \\cdot C_7^3}{C_{12}^4} + \\frac{C_5^1 \\cdot C_3^1}{C_8^2} \\cdot \\frac{C_5^2 \\cdot C_7^2}{C_{12}^4} + \\frac{C_3^2 }{C_8^2} \\cdot \\frac{C_5^3 \\cdot C_7^1}{C_{12}^4}= 0.3687$$"
   ]
  },
  {
   "cell_type": "code",
   "execution_count": 11,
   "id": "bffcba0e",
   "metadata": {},
   "outputs": [],
   "source": [
    "import math"
   ]
  },
  {
   "cell_type": "code",
   "execution_count": 12,
   "id": "2f24e8b3",
   "metadata": {},
   "outputs": [],
   "source": [
    "def combinations(n, k):\n",
    "    return int(math.factorial(n) / (math.factorial(k) * math.factorial(n - k)))"
   ]
  },
  {
   "cell_type": "code",
   "execution_count": 13,
   "id": "24f06c3c",
   "metadata": {},
   "outputs": [
    {
     "data": {
      "text/plain": [
       "0.3687"
      ]
     },
     "execution_count": 13,
     "metadata": {},
     "output_type": "execute_result"
    }
   ],
   "source": [
    "resalt2 = round((combinations(5, 2)/combinations(8, 2))*((combinations(5, 1)*combinations(7, 3))/combinations(12, 4))+\n",
    "                ((combinations(5, 1)*combinations(3, 1))/combinations(8, 2))*\n",
    "                ((combinations(5, 2)*combinations(7, 2))/combinations(12, 4))+\n",
    "                (combinations(3, 2)/combinations(8, 2))*((combinations(5, 3)*combinations(7, 1))/combinations(12, 4)), 4)\n",
    "resalt2"
   ]
  },
  {
   "cell_type": "markdown",
   "id": "e6cc005f",
   "metadata": {},
   "source": [
    "### Ответ: 0.3687"
   ]
  },
  {
   "cell_type": "markdown",
   "id": "1adf1ae9",
   "metadata": {},
   "source": [
    "### Задание 3\n",
    "#### На соревновании по биатлону один из трех спортсменов стреляет и попадает в мишень. Вероятность попадания для первого спортсмена равна 0.9, для второго — 0.8, для третьего — 0.6. \n",
    "##### Найти вероятность того, что выстрел произведен: \n",
    "##### a) первым спортсменом, \n",
    "##### б) вторым спортсменом, \n",
    "##### в) третьим спортсменом?"
   ]
  },
  {
   "cell_type": "markdown",
   "id": "371ae27c",
   "metadata": {},
   "source": [
    "#### Решение:"
   ]
  },
  {
   "cell_type": "markdown",
   "id": "fc66dc2e",
   "metadata": {},
   "source": [
    "Событием $A$ будем считать попадание в мишень, а событиями $B_1, B_2$ и $B_3$ — что попал первый, второй или третий спортсмен:"
   ]
  },
  {
   "cell_type": "markdown",
   "id": "4f20fd4d",
   "metadata": {},
   "source": [
    "$$P(A\\:|\\:B_1) = 0.9$$\n",
    "\n",
    "$$P(A\\:|\\:B_2) = 0.8$$\n",
    "\n",
    "$$P(A\\:|\\:B_3) = 0.6$$"
   ]
  },
  {
   "cell_type": "markdown",
   "id": "74be6d18",
   "metadata": {},
   "source": [
    "##### а) Вероятность того, что выстрел произведен первым спортсменом:\n",
    "$$P(B_1\\:|\\:A) = \\frac{P(B_1) \\cdot P(A\\:|\\:B_1)}{P(A)}=\\frac{\\frac{1}{3} \\cdot 0.9}{\\frac{1}{3} \\cdot 0.9 + \\frac{1}{3} \\cdot 0.8 + \\frac{1}{3} \\cdot 0.6} = 0.3913$$"
   ]
  },
  {
   "cell_type": "code",
   "execution_count": 14,
   "id": "887d76a8",
   "metadata": {},
   "outputs": [],
   "source": [
    "def bayes1(b1, b2, b3, x):\n",
    "    if x == 1:\n",
    "        y = b1\n",
    "    elif x == 2:\n",
    "        y = b2\n",
    "    else:\n",
    "        y = b3\n",
    "    return ((1/3)*y)/((1/3)*b1+(1/3)*b2+(1/3)*b3)"
   ]
  },
  {
   "cell_type": "code",
   "execution_count": 15,
   "id": "32006606",
   "metadata": {},
   "outputs": [
    {
     "data": {
      "text/plain": [
       "0.3913"
      ]
     },
     "execution_count": 15,
     "metadata": {},
     "output_type": "execute_result"
    }
   ],
   "source": [
    "result3_1 = round(bayes1(0.9, 0.8, 0.6, 1), 4)\n",
    "result3_1"
   ]
  },
  {
   "cell_type": "markdown",
   "id": "7ba71b52",
   "metadata": {},
   "source": [
    "##### б) Вероятность того, что выстрел произведен вторым спортсменом:\n",
    "$$P(B_2\\:|\\:A) = \\frac{P(B_2) \\cdot P(A\\:|\\:B_2)}{P(A)}=\\frac{\\frac{1}{3} \\cdot 0.8}{\\frac{1}{3} \\cdot 0.9 + \\frac{1}{3} \\cdot 0.8 + \\frac{1}{3} \\cdot 0.6} = 0.3478$$"
   ]
  },
  {
   "cell_type": "code",
   "execution_count": 16,
   "id": "14827c85",
   "metadata": {},
   "outputs": [
    {
     "data": {
      "text/plain": [
       "0.3478"
      ]
     },
     "execution_count": 16,
     "metadata": {},
     "output_type": "execute_result"
    }
   ],
   "source": [
    "result3_2 = round(bayes1(0.9, 0.8, 0.6, 2), 4)\n",
    "result3_2"
   ]
  },
  {
   "cell_type": "markdown",
   "id": "df0ed1dc",
   "metadata": {},
   "source": [
    "##### в) Вероятность того, что выстрел произведен третьим спортсменом:\n",
    "$$P(B_3\\:|\\:A) = \\frac{P(B_3) \\cdot P(A\\:|\\:B_3)}{P(A)}=\\frac{\\frac{1}{3} \\cdot 0.6}{\\frac{1}{3} \\cdot 0.9 + \\frac{1}{3} \\cdot 0.8 + \\frac{1}{3} \\cdot 0.6} = 0.2609$$"
   ]
  },
  {
   "cell_type": "code",
   "execution_count": 17,
   "id": "9651ce6a",
   "metadata": {},
   "outputs": [
    {
     "data": {
      "text/plain": [
       "0.2609"
      ]
     },
     "execution_count": 17,
     "metadata": {},
     "output_type": "execute_result"
    }
   ],
   "source": [
    "result3_3 = round(bayes1(0.9, 0.8, 0.6, 3), 4)\n",
    "result3_3"
   ]
  },
  {
   "cell_type": "markdown",
   "id": "39153f0c",
   "metadata": {},
   "source": [
    "### Ответ: \n",
    "### а) Вероятность того, что выстрел произведен первым спортсменом: 0.3913,\n",
    "### б) Вероятность того, что выстрел произведен вторым спортсменом: 0.3478,\n",
    "### в) Вероятность того, что выстрел произведен третьим спортсменом: 0.2609."
   ]
  },
  {
   "cell_type": "markdown",
   "id": "41b2338d",
   "metadata": {},
   "source": [
    "### Задание 4\n",
    "#### В университет на факультеты A и B поступило равное количество студентов, а на факультет C студентов поступило столько же, сколько на A и B вместе. Вероятность того, что студент факультета A сдаст первую сессию, равна 0.8. Для студента факультета B эта вероятность равна 0.7, а для студента факультета C - 0.9. Студент сдал первую сессию. \n",
    "##### Какова вероятность, что он учится: \n",
    "##### a) на факультете A, \n",
    "##### б) на факультете B, \n",
    "##### в) на факультете C?"
   ]
  },
  {
   "cell_type": "markdown",
   "id": "a7ea71a6",
   "metadata": {},
   "source": [
    "#### Решение:"
   ]
  },
  {
   "cell_type": "code",
   "execution_count": 18,
   "id": "b97040fa",
   "metadata": {},
   "outputs": [],
   "source": [
    "def bayes2(b1, b2, b3, x):\n",
    "    if x == 1:\n",
    "        y = b1\n",
    "        z = 1/4\n",
    "    elif x == 2:\n",
    "        y = b2\n",
    "        z = 1/4\n",
    "    else:\n",
    "        y = b3\n",
    "        z = 1/2\n",
    "    return (z*y)/((1/4)*b1+(1/4)*b2+(1/2)*b3)"
   ]
  },
  {
   "cell_type": "markdown",
   "id": "064b6e0c",
   "metadata": {},
   "source": [
    "Событием $A$ будем считать успешную сдачу экзамена, а событиями $B_1, B_2$ и $B_3$ — что сдал первый, второй или третий студент:"
   ]
  },
  {
   "cell_type": "markdown",
   "id": "f4eadfb1",
   "metadata": {},
   "source": [
    "$$P(A\\:|\\:B_1) = 0.8$$\n",
    "\n",
    "$$P(A\\:|\\:B_2) = 0.7$$\n",
    "\n",
    "$$P(A\\:|\\:B_3) = 0.9$$"
   ]
  },
  {
   "cell_type": "markdown",
   "id": "acfaeb30",
   "metadata": {},
   "source": [
    "##### а) Вероятность того, что сдал студент с факультета А:\n",
    "$$P(B_1\\:|\\:A) = \\frac{P(B_1) \\cdot P(A\\:|\\:B_1)}{P(A)}=\\frac{\\frac{1}{4} \\cdot 0.8}{\\frac{1}{4} \\cdot 0.8 + \\frac{1}{4} \\cdot 0.7 + \\frac{1}{2} \\cdot 0.9} = 0.2424$$"
   ]
  },
  {
   "cell_type": "code",
   "execution_count": 19,
   "id": "9373a5c7",
   "metadata": {},
   "outputs": [
    {
     "data": {
      "text/plain": [
       "0.2424"
      ]
     },
     "execution_count": 19,
     "metadata": {},
     "output_type": "execute_result"
    }
   ],
   "source": [
    "result4_1 = round(bayes2(0.8, 0.7, 0.9, 1), 4)\n",
    "result4_1"
   ]
  },
  {
   "cell_type": "markdown",
   "id": "98e5b4a5",
   "metadata": {},
   "source": [
    "##### б) Вероятность того, что сдал студент с факультета В:\n",
    "$$P(B_2\\:|\\:A) = \\frac{P(B_2) \\cdot P(A\\:|\\:B_2)}{P(A)}=\\frac{\\frac{1}{4} \\cdot 0.7}{\\frac{1}{4} \\cdot 0.8 + \\frac{1}{4} \\cdot 0.7 + \\frac{1}{2} \\cdot 0.9} = 0.2121$$"
   ]
  },
  {
   "cell_type": "code",
   "execution_count": 20,
   "id": "503cf080",
   "metadata": {},
   "outputs": [
    {
     "data": {
      "text/plain": [
       "0.2121"
      ]
     },
     "execution_count": 20,
     "metadata": {},
     "output_type": "execute_result"
    }
   ],
   "source": [
    "result4_2 = round(bayes2(0.8, 0.7, 0.9, 2), 4)\n",
    "result4_2"
   ]
  },
  {
   "cell_type": "markdown",
   "id": "2b44a589",
   "metadata": {},
   "source": [
    "##### в) Вероятность того, что сдал студент с факультета С:\n",
    "$$P(B_3\\:|\\:A) = \\frac{P(B_3) \\cdot P(A\\:|\\:B_3)}{P(A)}=\\frac{\\frac{1}{2} \\cdot 0.9}{\\frac{1}{4} \\cdot 0.8 + \\frac{1}{4} \\cdot 0.7 + \\frac{1}{2} \\cdot 0.9} = 0.5455$$"
   ]
  },
  {
   "cell_type": "code",
   "execution_count": 21,
   "id": "d95faf43",
   "metadata": {},
   "outputs": [
    {
     "data": {
      "text/plain": [
       "0.5455"
      ]
     },
     "execution_count": 21,
     "metadata": {},
     "output_type": "execute_result"
    }
   ],
   "source": [
    "result4_3 = round(bayes2(0.8, 0.7, 0.9, 3), 4)\n",
    "result4_3"
   ]
  },
  {
   "cell_type": "markdown",
   "id": "f8feec15",
   "metadata": {},
   "source": [
    "### Ответ: \n",
    "### а) Вероятность того, что сдал студент с факультета А: 0.2424,\n",
    "### б) Вероятность того, что сдал студент с факультета В: 0.2121,\n",
    "### в) Вероятность того, что сдал студент с факультета С: 0.5455."
   ]
  },
  {
   "cell_type": "markdown",
   "id": "af446718",
   "metadata": {},
   "source": [
    "### Задание 5\n",
    "#### Устройство состоит из трех деталей. Для первой детали вероятность выйти из строя в первый месяц равна 0.1, для второй - 0.2, для третьей - 0.25. \n",
    "##### Какова вероятность того, что в первый месяц выйдут из строя: \n",
    "##### а) все детали, \n",
    "##### б) только две детали, \n",
    "##### в) хотя бы одна деталь, \n",
    "##### г) от одной до двух деталей?"
   ]
  },
  {
   "cell_type": "markdown",
   "id": "9439c2f2",
   "metadata": {},
   "source": [
    "#### Решение:"
   ]
  },
  {
   "cell_type": "markdown",
   "id": "9e40a75a",
   "metadata": {},
   "source": [
    "##### а) вероятность того, что в первый месяц выйдут из строя все детали:\n",
    "$$P(A) * P(B) * P(C)=0.1*0.2*0.25=0.005$$"
   ]
  },
  {
   "cell_type": "code",
   "execution_count": 22,
   "id": "2bde054c",
   "metadata": {},
   "outputs": [
    {
     "data": {
      "text/plain": [
       "0.005"
      ]
     },
     "execution_count": 22,
     "metadata": {},
     "output_type": "execute_result"
    }
   ],
   "source": [
    "result5_1 = round(0.1*0.2*0.25, 4)\n",
    "result5_1"
   ]
  },
  {
   "cell_type": "markdown",
   "id": "5d55ef4c",
   "metadata": {},
   "source": [
    "##### б) вероятность того, что в первый месяц выйдут из строя только две детали:\n",
    "$$P(A) * P(B) + P(A) * P(C) + P(B) * P(C)=0.1*0.2+0.1*0.25+0.2*0.25=0.095$$"
   ]
  },
  {
   "cell_type": "code",
   "execution_count": 23,
   "id": "c62d5f38",
   "metadata": {},
   "outputs": [
    {
     "data": {
      "text/plain": [
       "0.095"
      ]
     },
     "execution_count": 23,
     "metadata": {},
     "output_type": "execute_result"
    }
   ],
   "source": [
    "result5_2 = round(0.1*0.2+0.1*0.25+0.2*0.25, 4)\n",
    "result5_2"
   ]
  },
  {
   "cell_type": "markdown",
   "id": "a464355e",
   "metadata": {},
   "source": [
    "##### в) вероятность того, что в первый месяц выйдет из строя хотя бы одна деталь:\n",
    "$$P(A) + P(B) + P(C)=0.1+0.2+0.25=0.55$$"
   ]
  },
  {
   "cell_type": "code",
   "execution_count": 24,
   "id": "a57f712c",
   "metadata": {},
   "outputs": [
    {
     "data": {
      "text/plain": [
       "0.55"
      ]
     },
     "execution_count": 24,
     "metadata": {},
     "output_type": "execute_result"
    }
   ],
   "source": [
    "result5_3 = round(0.1+0.2+0.25, 4)\n",
    "result5_3"
   ]
  },
  {
   "cell_type": "markdown",
   "id": "2aefdeb8",
   "metadata": {},
   "source": [
    "##### г) вероятность того, что в первый месяц выйдут из строя от одной до двух деталей:\n",
    "$$P(A) + P(B) + P(C) + P(A) * P(B) + P(A) * P(C) + P(B) * P(C)=0.1+0.2+0.25+0.1*0.2+0.1*0.25+0.2*0.25=0.645$$"
   ]
  },
  {
   "cell_type": "code",
   "execution_count": 25,
   "id": "c24d4847",
   "metadata": {},
   "outputs": [
    {
     "data": {
      "text/plain": [
       "0.645"
      ]
     },
     "execution_count": 25,
     "metadata": {},
     "output_type": "execute_result"
    }
   ],
   "source": [
    "result5_4 = round(0.1+0.2+0.25+0.1*0.2+0.1*0.25+0.2*0.25, 4)\n",
    "result5_4"
   ]
  },
  {
   "cell_type": "markdown",
   "id": "ae346c55",
   "metadata": {},
   "source": [
    "### Ответ: \n",
    "### а) Вероятность того, что в первый месяц выйдут из строя все детали: 0.005,\n",
    "### б) Вероятность того, что в первый месяц выйдут из строя только две детали: 0.095,\n",
    "### в) Вероятность того, что в первый месяц выйдет из строя хотя бы одна деталь: 0.55,\n",
    "### г) Вероятность того, что в первый месяц выйдут из строя от одной до двух деталей: 0.645."
   ]
  }
 ],
 "metadata": {
  "kernelspec": {
   "display_name": "Python 3 (ipykernel)",
   "language": "python",
   "name": "python3"
  },
  "language_info": {
   "codemirror_mode": {
    "name": "ipython",
    "version": 3
   },
   "file_extension": ".py",
   "mimetype": "text/x-python",
   "name": "python",
   "nbconvert_exporter": "python",
   "pygments_lexer": "ipython3",
   "version": "3.9.7"
  }
 },
 "nbformat": 4,
 "nbformat_minor": 5
}
