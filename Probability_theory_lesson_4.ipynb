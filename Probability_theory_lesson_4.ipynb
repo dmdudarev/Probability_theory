{
 "cells": [
  {
   "cell_type": "markdown",
   "id": "f526e06a",
   "metadata": {},
   "source": [
    "# Lesson 4 "
   ]
  },
  {
   "cell_type": "markdown",
   "id": "5d753c35",
   "metadata": {},
   "source": [
    "### Задача 1\n",
    "#### Случайная непрерывная величина A имеет равномерное распределение на промежутке (200, 800].\n",
    "#### Найдите: \n",
    "##### а) среднее значение \n",
    "##### б) дисперсию."
   ]
  },
  {
   "cell_type": "markdown",
   "id": "9be745ae",
   "metadata": {},
   "source": [
    "$$M(X) = \\frac{a + b}{2} = \\frac{200 + 800}{2} = 500$$\n",
    "\n",
    "$$D(X) = \\frac{(b - a)^2}{12} = \\frac{(800 - 200)^2}{12} = 30000$$"
   ]
  },
  {
   "cell_type": "markdown",
   "id": "ee79b975",
   "metadata": {},
   "source": [
    "#### Ответ: \n",
    "##### а) среднее значение: 500 \n",
    "##### б) дисперсия: 30000"
   ]
  },
  {
   "cell_type": "markdown",
   "id": "aeec6e2e",
   "metadata": {},
   "source": [
    "### Задача 2\n",
    "#### О случайной непрерывной равномерно распределенной величине B известно, что ее дисперсия равна 0.2.\n",
    "##### а) Можно ли найти правую границу величины B и ее среднее значение зная, что левая граница равна 0.5?\n",
    "##### б) Если да, найдите ее."
   ]
  },
  {
   "cell_type": "markdown",
   "id": "c0397bcb",
   "metadata": {},
   "source": [
    "$$D(X) = \\frac{(b - a)^2}{12} = \\frac{(b - 0.5)^2}{12} = 0.2$$\n",
    "\n",
    "$$b = \\sqrt{D(X) \\cdot 12}+a $$\n",
    "\n",
    "$$b = \\sqrt{0.2 \\cdot 12}+0.5=2.0492$$"
   ]
  },
  {
   "cell_type": "markdown",
   "id": "8b3baaed",
   "metadata": {},
   "source": [
    "$$M(X) = \\frac{a + b}{2} = \\frac{0.5 + 2.0492}{2} = 1.2746$$"
   ]
  },
  {
   "cell_type": "code",
   "execution_count": 2,
   "id": "92da5048",
   "metadata": {},
   "outputs": [],
   "source": [
    "import math"
   ]
  },
  {
   "cell_type": "code",
   "execution_count": 5,
   "id": "afb14470",
   "metadata": {},
   "outputs": [
    {
     "data": {
      "text/plain": [
       "2.0492"
      ]
     },
     "execution_count": 5,
     "metadata": {},
     "output_type": "execute_result"
    }
   ],
   "source": [
    "b = round(math.sqrt(0.2*12)+0.5, 4)\n",
    "b"
   ]
  },
  {
   "cell_type": "code",
   "execution_count": 6,
   "id": "c6a0755d",
   "metadata": {},
   "outputs": [
    {
     "data": {
      "text/plain": [
       "1.2746"
      ]
     },
     "execution_count": 6,
     "metadata": {},
     "output_type": "execute_result"
    }
   ],
   "source": [
    "a = (0.5 + 2.0492)/2\n",
    "a"
   ]
  },
  {
   "cell_type": "markdown",
   "id": "ca9b18ee",
   "metadata": {},
   "source": [
    "#### Ответ: \n",
    "##### а) Можно найти правую границу величины B и ее среднее значение, зная левую границу и дисперсию \n",
    "##### б) Правая граница: 2.0492, среднее значение: 1.2746"
   ]
  },
  {
   "cell_type": "markdown",
   "id": "5f5d8fef",
   "metadata": {},
   "source": [
    "### Задача 3\n",
    "#### Непрерывная случайная величина X распределена нормально и задана плотностью распределения \n",
    "$$f(x) = \\frac{1} {4 \\cdot \\sqrt{2\\pi}} \\cdot e^{-\\frac {(x+2)^2}{32}}$$\n",
    "#### Найдите:\n",
    "##### а) M(X)\n",
    "##### б) D(X)\n",
    "##### в) std(X) (среднее квадратичное отклонение)"
   ]
  },
  {
   "cell_type": "markdown",
   "id": "0382fa8f",
   "metadata": {},
   "source": [
    "$$f(x) = \\frac{1}{\\sigma \\sqrt{2 \\pi}} e ^ {- \\frac{(x - a)^2}{2 \\sigma^2}}$$\n",
    "где $a = M(X), \\; \\sigma^2 = D(X).$"
   ]
  },
  {
   "cell_type": "markdown",
   "id": "c2fe7e98",
   "metadata": {},
   "source": [
    "$$M(X)=a=-2$$\n",
    "\n",
    "$$D(X)=\\sigma^2=16$$\n",
    "\n",
    "$$std(X)=\\sigma=4$$"
   ]
  },
  {
   "cell_type": "markdown",
   "id": "c97cdda2",
   "metadata": {},
   "source": [
    "#### Ответ:\n",
    "##### а) M(X): -2\n",
    "##### б) D(X): 16\n",
    "##### в) std(X) (среднее квадратичное отклонение): 4"
   ]
  },
  {
   "cell_type": "markdown",
   "id": "f6d20590",
   "metadata": {},
   "source": [
    "### Задача 4\n",
    "#### Рост взрослого населения города X имеет нормальное распределение. Причем, средний рост равен 174 см, а среднее квадратичное отклонение равно 8 см.\n",
    "#### Какова вероятность того, что случайным образом выбранный взрослый человек имеет рост:\n",
    "##### а) больше 182 см\n",
    "##### б) больше 190 см\n",
    "##### в) от 166 см до 190 см\n",
    "##### г) от 166 см до 182 см\n",
    "##### д) от 158 см до 190 см\n",
    "##### е) не выше 150 см или не ниже 190 см\n",
    "##### ё) не выше 150 см или не ниже 198 см\n",
    "##### ж) ниже 166 см"
   ]
  },
  {
   "cell_type": "markdown",
   "id": "94146819",
   "metadata": {},
   "source": [
    "#### Ответ:\n",
    "##### а) больше 182 см: 0.1587 (15.87%)\n",
    "##### б) больше 190 см: 0.0228 (2.28%)\n",
    "##### в) от 166 см до 190 см: 0.817 (81.7%)\n",
    "##### г) от 166 см до 182 см: 0.68 (68%)\n",
    "##### д) от 158 см до 190 см: 0.954 (95.4%)\n",
    "##### е) не выше 150 см или не ниже 190 см: 0.0242 (2.42%)\n",
    "##### ё) не выше 150 см или не ниже 198 см: 0.0028 (0.28%)\n",
    "##### ж) ниже 166 см: 0.1587 (15.87%)"
   ]
  },
  {
   "cell_type": "markdown",
   "id": "6bd9941f",
   "metadata": {},
   "source": [
    "### Задача 5\n",
    "#### На сколько сигм (средних квадратичных отклонений) отклоняется рост человека, равный 190 см, от математического ожидания роста в популяции, в которой M(X) = 178 см и D(X) = 25 кв.см?"
   ]
  },
  {
   "cell_type": "markdown",
   "id": "b1a368f5",
   "metadata": {},
   "source": [
    "$$\\sigma = \\sqrt {D(X)} = \\sqrt {25} = 5$$"
   ]
  },
  {
   "cell_type": "markdown",
   "id": "53907776",
   "metadata": {},
   "source": [
    "$$Отклонение = \\frac {190-178}{5} = 2.4\\,\\sigma $$"
   ]
  },
  {
   "cell_type": "markdown",
   "id": "63bc412a",
   "metadata": {},
   "source": [
    "#### Ответ: 2.4 $\\sigma$"
   ]
  }
 ],
 "metadata": {
  "kernelspec": {
   "display_name": "Python 3 (ipykernel)",
   "language": "python",
   "name": "python3"
  },
  "language_info": {
   "codemirror_mode": {
    "name": "ipython",
    "version": 3
   },
   "file_extension": ".py",
   "mimetype": "text/x-python",
   "name": "python",
   "nbconvert_exporter": "python",
   "pygments_lexer": "ipython3",
   "version": "3.9.7"
  }
 },
 "nbformat": 4,
 "nbformat_minor": 5
}
