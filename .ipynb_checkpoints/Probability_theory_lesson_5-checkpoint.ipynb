{
 "cells": [
  {
   "cell_type": "markdown",
   "id": "efd67667",
   "metadata": {},
   "source": [
    "# Lesson 5"
   ]
  },
  {
   "cell_type": "markdown",
   "id": "f05e892b",
   "metadata": {},
   "source": [
    "### Задание 1\n",
    "#### Известно, что генеральная совокупность распределена нормально со средним квадратическим отклонением, равным 16.\n",
    "##### Найти доверительный интервал для оценки математического ожидания $\\, a \\,$ с надежностью 0.95, если выборочная средняя M = 80, а объем выборки n = 256."
   ]
  },
  {
   "cell_type": "markdown",
   "id": "6885e2a3",
   "metadata": {},
   "source": [
    "#### Решение:"
   ]
  },
  {
   "cell_type": "markdown",
   "id": "d52e391f",
   "metadata": {},
   "source": [
    "$$T_{1,2} = \\overline{X} \\pm \\frac{s_0}{\\sqrt{n}} \\cdot c_{\\gamma}$$\n",
    "\n",
    "$$T_{1,2} = 80 \\pm \\frac{16}{\\sqrt{256}} \\cdot 1.96$$\n",
    "\n",
    "$$T_{1,2} = 80 \\pm 1.96 = 79.04,\\, 81.96$$"
   ]
  },
  {
   "cell_type": "markdown",
   "id": "351d4b84",
   "metadata": {},
   "source": [
    "#### Ответ: 79.04 и 81.96"
   ]
  },
  {
   "cell_type": "markdown",
   "id": "a90042be",
   "metadata": {},
   "source": [
    "### Задание 2\n",
    "#### В результате 10 независимых измерений некоторой величины X, выполненных с одинаковой точностью, получены опытные данные: \n",
    "6.9, 6.1, 6.2, 6.8, 7.5, 6.3, 6.4, 6.9, 6.7, 6.1\n",
    "##### Предполагая, что результаты измерений подчинены нормальному закону распределения вероятностей, оценить истинное значение величины X при помощи доверительного интервала, покрывающего это значение с доверительной вероятностью 0,95."
   ]
  },
  {
   "cell_type": "markdown",
   "id": "04547c1e",
   "metadata": {},
   "source": [
    "#### Решение:"
   ]
  },
  {
   "cell_type": "code",
   "execution_count": 1,
   "id": "428ac85b",
   "metadata": {},
   "outputs": [],
   "source": [
    "import math\n",
    "import numpy as np\n",
    "import pandas as pd"
   ]
  },
  {
   "cell_type": "code",
   "execution_count": 2,
   "id": "46d01633",
   "metadata": {},
   "outputs": [],
   "source": [
    "df1 = pd.DataFrame([6.9, 6.1, 6.2, 6.8, 7.5, 6.3, 6.4, 6.9, 6.7, 6.1], columns=['my_data'])"
   ]
  },
  {
   "cell_type": "code",
   "execution_count": 3,
   "id": "6e977a19",
   "metadata": {},
   "outputs": [
    {
     "data": {
      "text/plain": [
       "6.59"
      ]
     },
     "execution_count": 3,
     "metadata": {},
     "output_type": "execute_result"
    }
   ],
   "source": [
    "df1_mean = round(df1['my_data'].mean(), 2)\n",
    "df1_mean"
   ]
  },
  {
   "cell_type": "code",
   "execution_count": 4,
   "id": "7ba1c87a",
   "metadata": {},
   "outputs": [
    {
     "data": {
      "text/plain": [
       "0.2032"
      ]
     },
     "execution_count": 4,
     "metadata": {},
     "output_type": "execute_result"
    }
   ],
   "source": [
    "df1_var = round(df1['my_data'].var(ddof=1), 4)\n",
    "df1_var"
   ]
  },
  {
   "cell_type": "code",
   "execution_count": 5,
   "id": "012cdd47",
   "metadata": {},
   "outputs": [
    {
     "data": {
      "text/plain": [
       "0.4508"
      ]
     },
     "execution_count": 5,
     "metadata": {},
     "output_type": "execute_result"
    }
   ],
   "source": [
    "df1_sigma = round(math.sqrt(df1_var), 4)\n",
    "df1_sigma"
   ]
  },
  {
   "cell_type": "code",
   "execution_count": 6,
   "id": "f5704ec6",
   "metadata": {},
   "outputs": [
    {
     "data": {
      "text/plain": [
       "(6.2675, 6.9125)"
      ]
     },
     "execution_count": 6,
     "metadata": {},
     "output_type": "execute_result"
    }
   ],
   "source": [
    "result2_1 = df1_mean-round((df1_sigma/math.sqrt(df1['my_data'].count()))*2.262, 4)\n",
    "result2_2 = df1_mean+round((df1_sigma/math.sqrt(df1['my_data'].count()))*2.262, 4)\n",
    "result2_1, result2_2"
   ]
  },
  {
   "cell_type": "markdown",
   "id": "c098bccf",
   "metadata": {},
   "source": [
    "#### Ответ: 6.2675 и 6.9125"
   ]
  },
  {
   "cell_type": "markdown",
   "id": "d10226cb",
   "metadata": {},
   "source": [
    "### Задание 3\n",
    "#### Утверждается, что шарики для подшипников, изготовленные автоматическим станком, имеют средний диаметр 17 мм.\n",
    "##### Используя односторонний критерий с $\\alpha$=0,05, проверить эту гипотезу, если в выборке из n=100 шариков средний диаметр оказался равным 17.5 мм, а дисперсия известна и равна 4 кв. мм."
   ]
  },
  {
   "cell_type": "markdown",
   "id": "9c0d8f05",
   "metadata": {},
   "source": [
    "#### Решение:"
   ]
  },
  {
   "cell_type": "code",
   "execution_count": 7,
   "id": "f70ced87",
   "metadata": {},
   "outputs": [
    {
     "data": {
      "text/plain": [
       "2.5"
      ]
     },
     "execution_count": 7,
     "metadata": {},
     "output_type": "execute_result"
    }
   ],
   "source": [
    "Z_check = (17.5-17)/(math.sqrt(4)/math.sqrt(100))\n",
    "Z_check"
   ]
  },
  {
   "cell_type": "markdown",
   "id": "4417b7c8",
   "metadata": {},
   "source": [
    "#### Ответ: $Z$ расчетная (2.5) справа от $Z$ табличной (1.65), поэтому верно среднее значение из выборки (17.5 мм - $\\mu_1$) "
   ]
  },
  {
   "cell_type": "markdown",
   "id": "df426fc8",
   "metadata": {},
   "source": [
    "### Задание 4\n",
    "#### Продавец утверждает, что средний вес пачки печенья составляет 200 г. Из партии извлечена выборка из 10 пачек. Вес каждой пачки составляет:\n",
    "202, 203, 199, 197, 195, 201, 200, 204, 194, 190.\n",
    "#### Известно, что их веса распределены нормально.\n",
    "##### Верно ли утверждение продавца, если учитывать, что доверительная вероятность равна 99%?"
   ]
  },
  {
   "cell_type": "markdown",
   "id": "400bb74c",
   "metadata": {},
   "source": [
    "#### Решение:"
   ]
  },
  {
   "cell_type": "code",
   "execution_count": 8,
   "id": "288873dd",
   "metadata": {},
   "outputs": [],
   "source": [
    "df2 = pd.DataFrame([202, 203, 199, 197, 195, 201, 200, 204, 194, 190], columns=['my_weight'])"
   ]
  },
  {
   "cell_type": "code",
   "execution_count": 9,
   "id": "4db0ba28",
   "metadata": {},
   "outputs": [
    {
     "data": {
      "text/plain": [
       "198.5"
      ]
     },
     "execution_count": 9,
     "metadata": {},
     "output_type": "execute_result"
    }
   ],
   "source": [
    "df2_mean = round(df2['my_weight'].mean(), 2)\n",
    "df2_mean"
   ]
  },
  {
   "cell_type": "code",
   "execution_count": 10,
   "id": "edf7c575",
   "metadata": {},
   "outputs": [
    {
     "data": {
      "text/plain": [
       "4.4535"
      ]
     },
     "execution_count": 10,
     "metadata": {},
     "output_type": "execute_result"
    }
   ],
   "source": [
    "df2_sigma = round(math.sqrt(df2['my_weight'].var(ddof=1)), 4)\n",
    "df2_sigma"
   ]
  },
  {
   "cell_type": "code",
   "execution_count": 11,
   "id": "47b9ba95",
   "metadata": {},
   "outputs": [
    {
     "data": {
      "text/plain": [
       "-1.0651"
      ]
     },
     "execution_count": 11,
     "metadata": {},
     "output_type": "execute_result"
    }
   ],
   "source": [
    "t_check = round((df2_mean-200)/(df2_sigma/math.sqrt(10)), 4)\n",
    "t_check"
   ]
  },
  {
   "cell_type": "markdown",
   "id": "ab040414",
   "metadata": {},
   "source": [
    "#### Ответ:  $t$  расчетная (-1.0651) слева от  $t$  табличной (2.821), поэтому верно среднее значение веса 200 г. ($\\mu_0$)"
   ]
  }
 ],
 "metadata": {
  "kernelspec": {
   "display_name": "Python 3 (ipykernel)",
   "language": "python",
   "name": "python3"
  },
  "language_info": {
   "codemirror_mode": {
    "name": "ipython",
    "version": 3
   },
   "file_extension": ".py",
   "mimetype": "text/x-python",
   "name": "python",
   "nbconvert_exporter": "python",
   "pygments_lexer": "ipython3",
   "version": "3.9.7"
  }
 },
 "nbformat": 4,
 "nbformat_minor": 5
}
