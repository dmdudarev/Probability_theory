{
 "cells": [
  {
   "cell_type": "markdown",
   "id": "8da76994",
   "metadata": {},
   "source": [
    "# Lesson 2"
   ]
  },
  {
   "cell_type": "markdown",
   "id": "8a0171ba",
   "metadata": {},
   "source": [
    "### Задание 1\n",
    "#### Вероятность того, что стрелок попадет в мишень, выстрелив один раз, равна 0.8. Стрелок выстрелил 100 раз.\n",
    "##### Найдите вероятность того, что стрелок попадет в цель ровно 85 раз."
   ]
  },
  {
   "cell_type": "markdown",
   "id": "5128cf1a",
   "metadata": {},
   "source": [
    "##### Решение:\n",
    "$$p(k=85) = C_n^kp^kq^{n-k} = C_{100}^{85}p^{85}q^{15} = \\frac{100!}{85!(100-85)!} \\cdot 0.8^{85} \\cdot 0.2^{15} = 0.0481$$"
   ]
  },
  {
   "cell_type": "code",
   "execution_count": 2,
   "id": "22c7b5b2",
   "metadata": {},
   "outputs": [],
   "source": [
    "import math"
   ]
  },
  {
   "cell_type": "code",
   "execution_count": 3,
   "id": "e7d51d20",
   "metadata": {},
   "outputs": [],
   "source": [
    "def combinations(n, k):\n",
    "    return int(math.factorial(n) / (math.factorial(k) * math.factorial(n - k)))"
   ]
  },
  {
   "cell_type": "code",
   "execution_count": 4,
   "id": "d4bdebc2",
   "metadata": {},
   "outputs": [],
   "source": [
    "def bernulli(n, k, p):\n",
    "    return combinations(n, k)*p**k*(1-p)**(n-k)"
   ]
  },
  {
   "cell_type": "code",
   "execution_count": 5,
   "id": "6ff95742",
   "metadata": {},
   "outputs": [
    {
     "data": {
      "text/plain": [
       "0.0481"
      ]
     },
     "execution_count": 5,
     "metadata": {},
     "output_type": "execute_result"
    }
   ],
   "source": [
    "resalt1 = round(bernulli(100, 85, 0.8), 4)\n",
    "resalt1"
   ]
  },
  {
   "cell_type": "markdown",
   "id": "45a478c5",
   "metadata": {},
   "source": [
    "### Ответ: 0.0481"
   ]
  },
  {
   "cell_type": "markdown",
   "id": "4966a62a",
   "metadata": {},
   "source": [
    "### Задание 2\n",
    "#### Вероятность того, что лампочка перегорит в течение первого дня эксплуатации, равна 0.0004. В жилом комплексе после ремонта в один день включили 5000 новых лампочек. \n",
    "##### а) Какова вероятность, что ни одна из них не перегорит в первый день?\n",
    "##### б) Какова вероятность, что перегорят ровно две?"
   ]
  },
  {
   "cell_type": "markdown",
   "id": "e6290978",
   "metadata": {},
   "source": [
    "##### Решение:\n",
    "##### а)\n",
    "$$P_{0} \\approx \\frac{\\lambda^m}{m!}e^{-\\lambda} \\approx \\frac{(0.0004\\cdot5000)^{0}}{0!}e^{-(0.0004\\cdot5000)} \\approx  0.1353$$\n",
    "##### б)\n",
    "$$P_{2} \\approx \\frac{\\lambda^m}{m!}e^{-\\lambda} \\approx \\frac{(0.0004\\cdot5000)^{2}}{2!}e^{-(0.0004\\cdot5000)} \\approx  0.2707$$"
   ]
  },
  {
   "cell_type": "code",
   "execution_count": 6,
   "id": "4cf7412d",
   "metadata": {},
   "outputs": [],
   "source": [
    "def puasson(m, n, p):\n",
    "    return (((p*n)**m)/math.factorial(m))*math.exp(-(p*n))"
   ]
  },
  {
   "cell_type": "code",
   "execution_count": 7,
   "id": "9d95c783",
   "metadata": {},
   "outputs": [
    {
     "data": {
      "text/plain": [
       "0.1353"
      ]
     },
     "execution_count": 7,
     "metadata": {},
     "output_type": "execute_result"
    }
   ],
   "source": [
    "resalt2_1 = round(puasson(0, 5000, 0.0004), 4)\n",
    "resalt2_1"
   ]
  },
  {
   "cell_type": "code",
   "execution_count": 8,
   "id": "bd6d0a08",
   "metadata": {},
   "outputs": [
    {
     "data": {
      "text/plain": [
       "0.2707"
      ]
     },
     "execution_count": 8,
     "metadata": {},
     "output_type": "execute_result"
    }
   ],
   "source": [
    "resalt2_2 = round(puasson(2, 5000, 0.0004), 4)\n",
    "resalt2_2"
   ]
  },
  {
   "cell_type": "markdown",
   "id": "d934e9a0",
   "metadata": {},
   "source": [
    "### Ответ: \n",
    "### а) 0.1353, \n",
    "### б) 0.2707."
   ]
  },
  {
   "cell_type": "markdown",
   "id": "bc70e850",
   "metadata": {},
   "source": [
    "### Задание 3\n",
    "#### Монету подбросили 144 раза. \n",
    "##### Какова вероятность, что орел выпадет ровно 70 раз?"
   ]
  },
  {
   "cell_type": "markdown",
   "id": "9f8f6dab",
   "metadata": {},
   "source": [
    "##### Решение:\n",
    "$$p(k=70) = C_n^kp^kq^{n-k} = C_{144}^{70}p^{70}q^{77} = \\frac{144!}{70!(144-70)!} \\cdot 0.5^{70} \\cdot 0.5^{74} = 0.0628$$"
   ]
  },
  {
   "cell_type": "code",
   "execution_count": 9,
   "id": "a1b50ad8",
   "metadata": {},
   "outputs": [
    {
     "data": {
      "text/plain": [
       "0.0628"
      ]
     },
     "execution_count": 9,
     "metadata": {},
     "output_type": "execute_result"
    }
   ],
   "source": [
    "resalt3 = round(bernulli(144, 70, 0.5), 4)\n",
    "resalt3"
   ]
  },
  {
   "cell_type": "markdown",
   "id": "b079a9c7",
   "metadata": {},
   "source": [
    "### Ответ: 0.0628"
   ]
  },
  {
   "cell_type": "markdown",
   "id": "2a9f4907",
   "metadata": {},
   "source": [
    "### Задание 4\n",
    "#### В первом ящике находится 10 мячей, из которых 7 - белые. Во втором ящике - 11 мячей, из которых 9 белых. Из каждого ящика вытаскивают случайным образом по два мяча. \n",
    "##### а) Какова вероятность того, что все мячи белые? \n",
    "##### б) Какова вероятность того, что ровно два мяча белые? \n",
    "##### в) Какова вероятность того, что хотя бы один мяч белый?"
   ]
  },
  {
   "cell_type": "markdown",
   "id": "c2c59c68",
   "metadata": {},
   "source": [
    "##### Решение:"
   ]
  },
  {
   "cell_type": "markdown",
   "id": "8d0b9737",
   "metadata": {},
   "source": [
    "##### а)\n",
    "$$\\frac{C_7^2}{C_{10}^2} \\cdot \\frac{C_9^2}{C_{11}^2} = 0.3055$$"
   ]
  },
  {
   "cell_type": "code",
   "execution_count": 10,
   "id": "56798e7a",
   "metadata": {},
   "outputs": [
    {
     "data": {
      "text/plain": [
       "0.3055"
      ]
     },
     "execution_count": 10,
     "metadata": {},
     "output_type": "execute_result"
    }
   ],
   "source": [
    "resalt4_1 = round((combinations(7, 2)/combinations(10, 2))*(combinations(9, 2)/combinations(11, 2)), 4)\n",
    "resalt4_1"
   ]
  },
  {
   "cell_type": "markdown",
   "id": "44dde6d4",
   "metadata": {},
   "source": [
    "##### б)\n",
    "$$\\frac{C_7^2}{C_{10}^2} \\cdot \\frac{C_2^2}{C_{11}^2} + \\frac{C_3^2}{C_{10}^2} \\cdot \\frac{C_9^2}{C_{11}^2} + \\frac{C_7^1 \\cdot C_3^1}{C_{10}^2} \\cdot \\frac{C_9^1 \\cdot C_2^1}{C_{11}^2}= 0.2048$$"
   ]
  },
  {
   "cell_type": "code",
   "execution_count": 11,
   "id": "fa8367cd",
   "metadata": {},
   "outputs": [
    {
     "data": {
      "text/plain": [
       "0.2048"
      ]
     },
     "execution_count": 11,
     "metadata": {},
     "output_type": "execute_result"
    }
   ],
   "source": [
    "resalt4_2 = round((combinations(7, 2)/combinations(10, 2))*(combinations(2, 2)/combinations(11, 2))+\n",
    "                  (combinations(3, 2)/combinations(10, 2))*(combinations(9, 2)/combinations(11, 2))+\n",
    "                  ((combinations(7, 1)*combinations(3, 1))/combinations(10, 2))*\n",
    "                  ((combinations(9, 1)*combinations(2, 1))/combinations(11, 2)), 4)\n",
    "resalt4_2"
   ]
  },
  {
   "cell_type": "markdown",
   "id": "51699ca1",
   "metadata": {},
   "source": [
    "##### в)\n",
    "$$1-\\frac{C_3^2}{C_{10}^2} \\cdot \\frac{C_2^2}{C_{11}^2} = 0.9988$$"
   ]
  },
  {
   "cell_type": "code",
   "execution_count": 12,
   "id": "9b4e915b",
   "metadata": {},
   "outputs": [
    {
     "data": {
      "text/plain": [
       "0.9988"
      ]
     },
     "execution_count": 12,
     "metadata": {},
     "output_type": "execute_result"
    }
   ],
   "source": [
    "resalt4_3 = round(1-(combinations(3, 2)/combinations(10, 2))*(combinations(2, 2)/combinations(11, 2)), 4)\n",
    "resalt4_3"
   ]
  },
  {
   "cell_type": "markdown",
   "id": "df735126",
   "metadata": {},
   "source": [
    "### Ответ: \n",
    "### а) 0.3055, \n",
    "### б) 0.2048,\n",
    "### в) 0.9988."
   ]
  }
 ],
 "metadata": {
  "kernelspec": {
   "display_name": "Python 3 (ipykernel)",
   "language": "python",
   "name": "python3"
  },
  "language_info": {
   "codemirror_mode": {
    "name": "ipython",
    "version": 3
   },
   "file_extension": ".py",
   "mimetype": "text/x-python",
   "name": "python",
   "nbconvert_exporter": "python",
   "pygments_lexer": "ipython3",
   "version": "3.9.7"
  }
 },
 "nbformat": 4,
 "nbformat_minor": 5
}
